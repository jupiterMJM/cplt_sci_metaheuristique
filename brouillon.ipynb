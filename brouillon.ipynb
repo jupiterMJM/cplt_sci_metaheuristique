{
 "cells": [
  {
   "cell_type": "markdown",
   "metadata": {},
   "source": [
    "# Résolution de TPTW (travel problem with time window) avec métahéuristique du recuit simulé"
   ]
  },
  {
   "cell_type": "code",
   "execution_count": 1,
   "metadata": {},
   "outputs": [],
   "source": [
    "# configuration\n",
    "T_init = 1000\n",
    "lbd = 0.999\n",
    "nb_iter = 1000\n",
    "path_to_instance = \"data/inst1\""
   ]
  },
  {
   "cell_type": "code",
   "execution_count": 2,
   "metadata": {},
   "outputs": [],
   "source": [
    "def evaluation_model(liste_prop, alpha=10):\n",
    "    \"\"\"\n",
    "    évalue le modèle en fonction de la liste des propositions\n",
    "    la formule choisie est la somme des distances plus une pénalité binaire pour chaque consigne de temps non respectée\n",
    "    :rq: on utilise les variables globales instance et graphe_matrix\n",
    "    \"\"\"\n",
    "    global instance, graphe_matrix\n",
    "    score = 0\n",
    "    assert liste_prop[0] == \"1\", \"La première ville n'est pas 1 : {}\".format(liste_prop)\n",
    "    time_axis = 0\n",
    "    for i, prop in enumerate(liste_prop):\n",
    "        if i == 0: continue\n",
    "        # on commence par aller jusqu'à la ville i\n",
    "        time_axis += graphe_matrix[int(liste_prop[i-1])][int(liste_prop[i])]\n",
    "\n",
    "        # si on est arrivé trop tôt, on attend\n",
    "        if time_axis < instance[prop][\"wstart\"]:\n",
    "            time_axis = instance[prop][\"wstart\"]\n",
    "\n",
    "        # on ajoute le cout au score\n",
    "        score += graphe_matrix[int(liste_prop[i-1])][int(prop)]\n",
    "\n",
    "        # on ajoute une pénalité si on arrive trop tard (consigne de temps non respectée)\n",
    "        if time_axis > instance[prop][\"wend\"]:\n",
    "            score += alpha\n",
    "    \n",
    "    return score\n",
    "\n",
    "    "
   ]
  },
  {
   "cell_type": "markdown",
   "metadata": {},
   "source": [
    "## préparation de l'instance pré-résolution"
   ]
  },
  {
   "cell_type": "code",
   "execution_count": 9,
   "metadata": {},
   "outputs": [],
   "source": [
    "import matplotlib.pyplot as plt\n",
    "import numpy as np\n",
    "from scipy.stats import bernoulli\n",
    "from scoreEtudiant import *\n",
    "from annexe import *\n",
    "import tqdm"
   ]
  },
  {
   "cell_type": "code",
   "execution_count": 10,
   "metadata": {},
   "outputs": [],
   "source": [
    "# calcul de la matrice des distances du graphe\n",
    "instance = load_instance(path_to_instance)\n",
    "graphe_matrix = compute_dist_mat(instance)\n"
   ]
  },
  {
   "cell_type": "markdown",
   "metadata": {},
   "source": [
    "## Récuit simulé\n",
    "On réalise ici l'algorithme du recuit-simulé."
   ]
  },
  {
   "cell_type": "code",
   "execution_count": 11,
   "metadata": {},
   "outputs": [
    {
     "name": "stdout",
     "output_type": "stream",
     "text": [
      "['1', '7', '16', '12', '9', '14', '15', '10', '2', '5', '18', '21', '20', '11', '13', '17', '19', '3', '6', '8', '4']\n"
     ]
    },
    {
     "data": {
      "text/plain": [
       "626.0"
      ]
     },
     "execution_count": 11,
     "metadata": {},
     "output_type": "execute_result"
    }
   ],
   "source": [
    "# initialisation de l'algorithme\n",
    "modele = list(instance.keys())\n",
    "modele = [\"1\"] + random.sample(modele[1:], len(modele)-1)\n",
    "print(modele)\n",
    "\n",
    "temperature = T_init\n",
    "\n",
    "modele_kept = modele.copy()\n",
    "score_kept = evaluation_model(modele_kept)\n",
    "score_kept"
   ]
  },
  {
   "cell_type": "code",
   "execution_count": 13,
   "metadata": {},
   "outputs": [
    {
     "name": "stderr",
     "output_type": "stream",
     "text": [
      "100%|██████████| 1000/1000 [00:00<00:00, 36415.84it/s]"
     ]
    },
    {
     "name": "stdout",
     "output_type": "stream",
     "text": [
      "[INFO] Simulation terminée\n"
     ]
    },
    {
     "name": "stderr",
     "output_type": "stream",
     "text": [
      "\n"
     ]
    }
   ],
   "source": [
    "for iteration in tqdm.tqdm(range(nb_iter)):\n",
    "    # on commence par appliquer une transformation aléatoire\n",
    "    modele = transformee_pick_2(modele)\n",
    "\n",
    "    # on détermine le score du modèle ainsi modifié\n",
    "    score = evaluation_model(modele)\n",
    "\n",
    "    # on accepte ou non la modification (recuit simulé)\n",
    "    if score < score_kept:\n",
    "        modele_kept = modele.copy()\n",
    "    else:\n",
    "        # principe du recuit simulé\n",
    "        proba = np.exp(-(score-score_kept)/temperature)\n",
    "        if bernoulli.rvs(proba, size=1):    # variable de bernoulli\n",
    "            modele_kept = modele.copy()\n",
    "            score_kept = score\n",
    "\n",
    "    # on met à jour les historiques\n",
    "    # TODO\n",
    "\n",
    "    # on met à jour la température puis ça repart\n",
    "    temperature *= lbd\n",
    "print(\"[INFO] Simulation terminée\")"
   ]
  },
  {
   "cell_type": "code",
   "execution_count": null,
   "metadata": {},
   "outputs": [],
   "source": []
  }
 ],
 "metadata": {
  "kernelspec": {
   "display_name": "Python 3",
   "language": "python",
   "name": "python3"
  },
  "language_info": {
   "codemirror_mode": {
    "name": "ipython",
    "version": 3
   },
   "file_extension": ".py",
   "mimetype": "text/x-python",
   "name": "python",
   "nbconvert_exporter": "python",
   "pygments_lexer": "ipython3",
   "version": "3.9.9"
  }
 },
 "nbformat": 4,
 "nbformat_minor": 2
}
